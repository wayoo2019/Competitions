{
  "nbformat": 4,
  "nbformat_minor": 0,
  "metadata": {
    "colab": {
      "name": "Travelers_v6.ipynb",
      "provenance": [],
      "mount_file_id": "1vqpzZPnXedT-n6exTYrH4srFRtS_1HCj",
      "authorship_tag": "ABX9TyNfFM87M+nMTcyfbIT+3ukB",
      "include_colab_link": true
    },
    "kernelspec": {
      "name": "python3",
      "display_name": "Python 3"
    },
    "language_info": {
      "name": "python"
    }
  },
  "cells": [
    {
      "cell_type": "markdown",
      "metadata": {
        "id": "view-in-github",
        "colab_type": "text"
      },
      "source": [
        "<a href=\"https://colab.research.google.com/github/wayoo2019/Competitions/blob/main/Travelers_v6.ipynb\" target=\"_parent\"><img src=\"https://colab.research.google.com/assets/colab-badge.svg\" alt=\"Open In Colab\"/></a>"
      ]
    },
    {
      "cell_type": "markdown",
      "metadata": {
        "id": "11NUCsmAbD96"
      },
      "source": [
        "This project uses data from 2021 Travelers Modeling Competition (https://www.kaggle.com/c/2021-travelers-modeling-competition). I use LGBM+XGBoost with Random oversampling method and soft voting to improve f1 score for the minority group from 0.08 to 0.392 (rank 8th out 40 teams from 6 universities). My Feature engineering does not help for score improvement which may because of lacking of domain knowledge."
      ]
    },
    {
      "cell_type": "code",
      "metadata": {
        "colab": {
          "base_uri": "https://localhost:8080/"
        },
        "id": "fUI9ZgUKQP6b",
        "outputId": "d1dbb009-81a1-4b23-ad0f-11202b57e524"
      },
      "source": [
        "from google.colab import drive\n",
        "drive.mount('/content/drive')"
      ],
      "execution_count": 3,
      "outputs": [
        {
          "output_type": "stream",
          "name": "stdout",
          "text": [
            "Drive already mounted at /content/drive; to attempt to forcibly remount, call drive.mount(\"/content/drive\", force_remount=True).\n"
          ]
        }
      ]
    },
    {
      "cell_type": "markdown",
      "metadata": {
        "id": "nytHgjbUbYLS"
      },
      "source": [
        "Import libraries"
      ]
    },
    {
      "cell_type": "code",
      "metadata": {
        "id": "w281biK3RC02"
      },
      "source": [
        "# !pip install catboost"
      ],
      "execution_count": null,
      "outputs": []
    },
    {
      "cell_type": "code",
      "metadata": {
        "id": "71pXxAr_QcSw"
      },
      "source": [
        "import numpy as np\n",
        "import pandas as pd\n",
        "from pandas_profiling import ProfileReport\n",
        "import matplotlib.pyplot as plt\n",
        "%matplotlib inline\n",
        "import seaborn as sns\n",
        "from collections import Counter\n",
        "\n",
        "#models\n",
        "from xgboost import XGBClassifier\n",
        "from lightgbm import LGBMClassifier\n",
        "from catboost import CatBoostClassifier \n",
        "from sklearn.ensemble import IsolationForest\n",
        "\n",
        "#metrix, encoding, spliting\n",
        "from sklearn.model_selection import ShuffleSplit\n",
        "from sklearn.model_selection import StratifiedKFold, KFold, TimeSeriesSplit, train_test_split\n",
        "from sklearn.metrics import f1_score, confusion_matrix, roc_auc_score\n",
        "from sklearn.preprocessing import LabelEncoder, OneHotEncoder\n",
        "from sklearn.model_selection import cross_val_score\n",
        "from sklearn.metrics import plot_confusion_matrix\n",
        "\n",
        "# sampling methods\n",
        "from imblearn.over_sampling import RandomOverSampler,SMOTE,SMOTENC\n",
        "from imblearn.under_sampling import RandomUnderSampler\n",
        "from imblearn.metrics import classification_report_imbalanced\n",
        "\n",
        "\n",
        "#Ensemble methods\n",
        "from sklearn.ensemble import StackingClassifier\n",
        "from sklearn.ensemble import VotingClassifier\n",
        "\n",
        "\n",
        "import time\n",
        "import warnings\n",
        "import gc\n",
        "\n",
        "\n",
        "import datetime\n",
        "\n",
        "pd.set_option('display.max_columns', None)\n",
        "# plt.style.use(style = 'seaborn')\n",
        "\n",
        "warnings.filterwarnings('ignore')"
      ],
      "execution_count": 51,
      "outputs": []
    },
    {
      "cell_type": "markdown",
      "metadata": {
        "id": "AHFy0kODbdi4"
      },
      "source": [
        "Import Original Data"
      ]
    },
    {
      "cell_type": "code",
      "metadata": {
        "colab": {
          "base_uri": "https://localhost:8080/"
        },
        "id": "vJUHy45Q-Jd3",
        "outputId": "9efb1afb-2fc0-4dbf-cb76-31206eeb1050"
      },
      "source": [
        "%%time\n",
        "train = pd.read_csv(\"/content/drive/MyDrive/2021-travelers-modeling-competition/train_2021.csv\")\n",
        "test = pd.read_csv(\"/content/drive/MyDrive/2021-travelers-modeling-competition/test_2021.csv\")"
      ],
      "execution_count": 21,
      "outputs": [
        {
          "output_type": "stream",
          "name": "stdout",
          "text": [
            "CPU times: user 69.8 ms, sys: 21.8 ms, total: 91.6 ms\n",
            "Wall time: 108 ms\n"
          ]
        }
      ]
    },
    {
      "cell_type": "code",
      "metadata": {
        "colab": {
          "base_uri": "https://localhost:8080/"
        },
        "id": "r2ZQLP2OEa5K",
        "outputId": "470601c0-c033-477c-d580-a3642eddc2e4"
      },
      "source": [
        "cat_cols = train.select_dtypes(include=['object', 'category']).columns.to_list()\n",
        "cat_cols"
      ],
      "execution_count": 22,
      "outputs": [
        {
          "output_type": "execute_result",
          "data": {
            "text/plain": [
              "['gender',\n",
              " 'living_status',\n",
              " 'claim_date',\n",
              " 'claim_day_of_week',\n",
              " 'accident_site',\n",
              " 'channel',\n",
              " 'vehicle_category',\n",
              " 'vehicle_color']"
            ]
          },
          "metadata": {},
          "execution_count": 22
        }
      ]
    },
    {
      "cell_type": "markdown",
      "metadata": {
        "id": "1srSWWqjblf9"
      },
      "source": [
        "## 1. Missing value imputation"
      ]
    },
    {
      "cell_type": "markdown",
      "metadata": {
        "id": "9Udm_ZPEbu7B"
      },
      "source": [
        "Create missing count for each row/sample"
      ]
    },
    {
      "cell_type": "code",
      "metadata": {
        "id": "JWtbY3VS-Jd4"
      },
      "source": [
        "train['mis_count'] = train.isnull().sum(axis=1)\n",
        "test['mis_count'] = test.isnull().sum(axis=1)"
      ],
      "execution_count": 23,
      "outputs": []
    },
    {
      "cell_type": "markdown",
      "metadata": {
        "id": "m5Ba0HHAb2dY"
      },
      "source": [
        "Impute -1 for the missing values of binary features"
      ]
    },
    {
      "cell_type": "code",
      "metadata": {
        "id": "SP4gmYkH-Jd4"
      },
      "source": [
        "train.loc[(train['witness_present_ind'].isnull()), 'witness_present_ind'] = -1\n",
        "test.loc[(test['witness_present_ind'].isnull()), 'witness_present_ind'] = -1"
      ],
      "execution_count": 24,
      "outputs": []
    },
    {
      "cell_type": "code",
      "metadata": {
        "id": "8IImwClb-Jd5"
      },
      "source": [
        "train.loc[(train['marital_status'].isnull()), 'marital_status'] = -1\n",
        "test.loc[(test['marital_status'].isnull()), 'marital_status'] = -1"
      ],
      "execution_count": 25,
      "outputs": []
    },
    {
      "cell_type": "markdown",
      "metadata": {
        "id": "TU5MUJ4eccPX"
      },
      "source": [
        "Impute median or min for the missing value of continupous features "
      ]
    },
    {
      "cell_type": "code",
      "metadata": {
        "id": "uyrbxBDh-Jd5"
      },
      "source": [
        "train.loc[(train['age_of_vehicle'].isnull()), 'age_of_vehicle'] = train['age_of_vehicle'].median()\n",
        "test.loc[(test['age_of_vehicle'].isnull()), 'age_of_vehicle'] = test['age_of_vehicle'].median()"
      ],
      "execution_count": 26,
      "outputs": []
    },
    {
      "cell_type": "code",
      "metadata": {
        "id": "Skxx7ewK-Jd5"
      },
      "source": [
        "train.loc[(train['claim_est_payout'].isnull()), 'claim_est_payout'] = train['claim_est_payout'].min()\n",
        "test.loc[(test['claim_est_payout'].isnull()), 'claim_est_payout'] = test['claim_est_payout'].min()"
      ],
      "execution_count": 27,
      "outputs": []
    },
    {
      "cell_type": "markdown",
      "metadata": {
        "id": "RWV1BEcOcvhg"
      },
      "source": [
        "##2. Preliminary model selection "
      ]
    },
    {
      "cell_type": "markdown",
      "metadata": {
        "id": "zFR3cvUoczrh"
      },
      "source": [
        "Since this is a kaggle competition, the candidats models are LightGBM, XGboost, CatBoost"
      ]
    },
    {
      "cell_type": "code",
      "metadata": {
        "id": "KIQh2IXu09hn"
      },
      "source": [
        "#XGB\n",
        "clf_xgb = XGBClassifier()\n",
        "#LGBM\n",
        "clf_lgb = LGBMClassifier()\n",
        "#CatBoost\n",
        "clf_cat = CatBoostClassifier(verbose=False)\n",
        "\n",
        "def model_score(X, y):\n",
        "  Classifiers = ['XGboost','LightGBM','CatBoost']\n",
        "  scores = []\n",
        "  models = [clf_xgb, clf_lgb, clf_cat]\n",
        "\n",
        "  cv_split = ShuffleSplit(n_splits = 5, test_size = .2, train_size = .8, random_state = 0 )\n",
        "\n",
        "  for model in models:\n",
        "    score = cross_val_score(model, X, y, scoring=\"f1\", cv=cv_split).mean()\n",
        "    scores.append(score)\n",
        "\n",
        "  results = pd.DataFrame(scores, index=Classifiers, columns=[\"Score\"]).sort_values(by = 'Score', ascending = False)\n",
        "\n",
        "  print(results)\n"
      ],
      "execution_count": 28,
      "outputs": []
    },
    {
      "cell_type": "markdown",
      "metadata": {
        "id": "uAvQgum55QTr"
      },
      "source": [
        "Convert categorical features to numerical features before running models"
      ]
    },
    {
      "cell_type": "code",
      "metadata": {
        "id": "OaYyATSEsaAj"
      },
      "source": [
        "def cat2num (cols_list):\n",
        "  for col in cols_list:\n",
        "    le = LabelEncoder()\n",
        "    le.fit(list(train[col].astype(str).values) + list(test[col].astype(str).values))\n",
        "    train[col] = le.transform(list(train[col].astype(str).values))\n",
        "    test[col] = le.transform(list(test[col].astype(str).values))"
      ],
      "execution_count": 29,
      "outputs": []
    },
    {
      "cell_type": "code",
      "metadata": {
        "id": "bCACpMG5zKUX"
      },
      "source": [
        "cols_list = train.select_dtypes(include=['object', 'category']).columns.tolist()\n",
        "cat2num(cols_list)"
      ],
      "execution_count": 30,
      "outputs": []
    },
    {
      "cell_type": "code",
      "metadata": {
        "id": "EvJorv6UH3XE"
      },
      "source": [
        "X, y = train.drop(columns='fraud', axis=1), train.fraud\n",
        "# X = X.drop(columns='claim_number', axis=1)"
      ],
      "execution_count": 31,
      "outputs": []
    },
    {
      "cell_type": "code",
      "metadata": {
        "colab": {
          "base_uri": "https://localhost:8080/"
        },
        "id": "Hs71goE15oDv",
        "outputId": "5ac3fc94-afdf-4ff9-d1c9-63f0d4f2ceea"
      },
      "source": [
        "model_score(X, y)"
      ],
      "execution_count": 32,
      "outputs": [
        {
          "output_type": "stream",
          "name": "stdout",
          "text": [
            "             Score\n",
            "LightGBM  0.086131\n",
            "CatBoost  0.082393\n",
            "XGboost   0.048326\n"
          ]
        }
      ]
    },
    {
      "cell_type": "markdown",
      "metadata": {
        "id": "pA-SlGbv6dC2"
      },
      "source": [
        "F1_score is binary which reports only the positive lable score. Actually, that is what competition looking for. All thress models have bad results, and the relative better model is LGBM. Since this is skewed data, so sampling method will be considered to improve the score."
      ]
    },
    {
      "cell_type": "code",
      "metadata": {
        "colab": {
          "base_uri": "https://localhost:8080/"
        },
        "id": "XL9SQ0pR8Zuk",
        "outputId": "7ccddb83-2e3d-4c8b-d40c-c94d107904ac"
      },
      "source": [
        "train['fraud'].mean()"
      ],
      "execution_count": 33,
      "outputs": [
        {
          "output_type": "execute_result",
          "data": {
            "text/plain": [
              "0.15646182909212134"
            ]
          },
          "metadata": {},
          "execution_count": 33
        }
      ]
    },
    {
      "cell_type": "code",
      "metadata": {
        "colab": {
          "base_uri": "https://localhost:8080/",
          "height": 296
        },
        "id": "Nht8PefZ7tC1",
        "outputId": "3a5a1980-0f30-4116-bb90-ce80115564f7"
      },
      "source": [
        "sns.countplot(train['fraud'])"
      ],
      "execution_count": 34,
      "outputs": [
        {
          "output_type": "execute_result",
          "data": {
            "text/plain": [
              "<matplotlib.axes._subplots.AxesSubplot at 0x7f6fbac5e050>"
            ]
          },
          "metadata": {},
          "execution_count": 34
        },
        {
          "output_type": "display_data",
          "data": {
            "image/png": "[encoded data removed]",
            "text/plain": [
              "<Figure size 432x288 with 1 Axes>"
            ]
          },
          "metadata": {
            "needs_background": "light"
          }
        }
      ]
    },
    {
      "cell_type": "markdown",
      "metadata": {
        "id": "UyKsAnpA8eea"
      },
      "source": [
        "## 3. Sampling the minority group\n",
        "\n",
        "\n",
        "*   Over sampling\n",
        "*   Under sampling\n",
        "*   SMOTE\n",
        "\n"
      ]
    },
    {
      "cell_type": "code",
      "metadata": {
        "id": "1mP_nwglIK2-"
      },
      "source": [
        "X_train, X_val, y_train, y_val = train_test_split(X, y, test_size=0.20, random_state=42, stratify=y)"
      ],
      "execution_count": 35,
      "outputs": []
    },
    {
      "cell_type": "code",
      "metadata": {
        "id": "pcOUiQA4IQyg"
      },
      "source": [
        "ros = RandomOverSampler(random_state=42)\n",
        "rus = RandomUnderSampler(random_state=42)\n",
        "smt = SMOTE(random_state=42, n_jobs=-1)\n",
        "\n",
        "X_over, y_over = ros.fit_resample(X_train,y_train)\n",
        "X_under, y_under = rus.fit_resample(X_train,y_train)\n",
        "X_smote, y_smote = smt.fit_resample(X_train,y_train)"
      ],
      "execution_count": 36,
      "outputs": []
    },
    {
      "cell_type": "code",
      "metadata": {
        "id": "XzYAl6oNQuPt"
      },
      "source": [
        "X_over = pd.DataFrame(X_over)\n",
        "X_over.columns = X_val.columns.tolist()"
      ],
      "execution_count": 37,
      "outputs": []
    },
    {
      "cell_type": "code",
      "metadata": {
        "colab": {
          "base_uri": "https://localhost:8080/"
        },
        "id": "YmttM-jc-Ywi",
        "outputId": "c04a6284-4778-432a-c24f-b084b8a4c268"
      },
      "source": [
        "clf = LGBMClassifier()\n",
        "clf.fit(X_over, y_over)\n",
        "y_pred = np.rint(clf.predict_proba(X_val)[:, 1])\n",
        "f1_score(y_val, y_pred, average=None)"
      ],
      "execution_count": 38,
      "outputs": [
        {
          "output_type": "execute_result",
          "data": {
            "text/plain": [
              "array([0.82973451, 0.37935484])"
            ]
          },
          "metadata": {},
          "execution_count": 38
        }
      ]
    },
    {
      "cell_type": "code",
      "metadata": {
        "colab": {
          "base_uri": "https://localhost:8080/"
        },
        "id": "_pVCJCR8CtKu",
        "outputId": "8d1e6afc-4d15-4b55-8bdb-e185a3e71dec"
      },
      "source": [
        "clf = LGBMClassifier()\n",
        "clf.fit(X_under, y_under)\n",
        "y_pred = np.rint(clf.predict_proba(X_val)[:, 1])\n",
        "f1_score(y_val, y_pred, average=None)"
      ],
      "execution_count": 39,
      "outputs": [
        {
          "output_type": "execute_result",
          "data": {
            "text/plain": [
              "array([0.74120407, 0.3646833 ])"
            ]
          },
          "metadata": {},
          "execution_count": 39
        }
      ]
    },
    {
      "cell_type": "code",
      "metadata": {
        "colab": {
          "base_uri": "https://localhost:8080/"
        },
        "id": "0UUqYmaBCxIG",
        "outputId": "85c3fcdb-f64e-430d-c3d5-8ff87d60fb93"
      },
      "source": [
        "clf = LGBMClassifier()\n",
        "clf.fit(X_smote, y_smote)\n",
        "y_pred = np.rint(clf.predict_proba(X_val)[:, 1])\n",
        "f1_score(y_val, y_pred, average=None)"
      ],
      "execution_count": 40,
      "outputs": [
        {
          "output_type": "execute_result",
          "data": {
            "text/plain": [
              "array([0.90585871, 0.16689466])"
            ]
          },
          "metadata": {},
          "execution_count": 40
        }
      ]
    },
    {
      "cell_type": "markdown",
      "metadata": {
        "id": "lCLFly4EC1if"
      },
      "source": [
        "The Oversampling method improves f1_score significantly from 0.086 to 0.379. However, the SMOTE does not show good improvement as I expected. It might be because of the categorical data, so let's use SMTENC"
      ]
    },
    {
      "cell_type": "code",
      "metadata": {
        "colab": {
          "base_uri": "https://localhost:8080/"
        },
        "id": "OpXzb6LCEy39",
        "outputId": "c01d36e0-9116-4d62-afe2-1eee561edaef"
      },
      "source": [
        "cat_cols"
      ],
      "execution_count": 41,
      "outputs": [
        {
          "output_type": "execute_result",
          "data": {
            "text/plain": [
              "['gender',\n",
              " 'living_status',\n",
              " 'claim_date',\n",
              " 'claim_day_of_week',\n",
              " 'accident_site',\n",
              " 'channel',\n",
              " 'vehicle_category',\n",
              " 'vehicle_color']"
            ]
          },
          "metadata": {},
          "execution_count": 41
        }
      ]
    },
    {
      "cell_type": "code",
      "metadata": {
        "colab": {
          "base_uri": "https://localhost:8080/"
        },
        "id": "L8XcitYZEKBY",
        "outputId": "4f12bb43-131e-4709-f2ac-380a16a9282d"
      },
      "source": [
        "np.argwhere(X.columns.isin(cat_cols)).ravel()"
      ],
      "execution_count": 42,
      "outputs": [
        {
          "output_type": "execute_result",
          "data": {
            "text/plain": [
              "array([ 2,  8, 10, 11, 12, 16, 20, 22])"
            ]
          },
          "metadata": {},
          "execution_count": 42
        }
      ]
    },
    {
      "cell_type": "code",
      "metadata": {
        "colab": {
          "base_uri": "https://localhost:8080/"
        },
        "id": "cudsZl48DypV",
        "outputId": "b1694782-2280-4318-ca12-9677757fa15c"
      },
      "source": [
        "smtenc = SMOTENC(random_state=42, categorical_features=[ 2,  8, 10, 11, 12, 16, 20, 22])\n",
        "X_smtenc, y_smtenc = smtenc.fit_resample(X_train,y_train)\n",
        "\n",
        "clf = LGBMClassifier()\n",
        "clf.fit(X_smtenc, y_smtenc)\n",
        "y_pred = np.rint(clf.predict_proba(X_val)[:, 1])\n",
        "f1_score(y_val, y_pred, average=None)"
      ],
      "execution_count": 43,
      "outputs": [
        {
          "output_type": "execute_result",
          "data": {
            "text/plain": [
              "array([0.91175112, 0.18953324])"
            ]
          },
          "metadata": {},
          "execution_count": 43
        }
      ]
    },
    {
      "cell_type": "markdown",
      "metadata": {
        "id": "nUaJrvy5FXeE"
      },
      "source": [
        "After consider the categorical features with SMOTENC, the f1_score still can not compete Random Over Sampling."
      ]
    },
    {
      "cell_type": "markdown",
      "metadata": {
        "id": "PCpqsWymWBDi"
      },
      "source": [
        "## 4. Hyperparameter tuning for LGBM, XGboost"
      ]
    },
    {
      "cell_type": "markdown",
      "metadata": {
        "id": "Oo0yfjW7WL2k"
      },
      "source": [
        "Use "
      ]
    },
    {
      "cell_type": "code",
      "metadata": {
        "id": "VhM2yzWnWRs0"
      },
      "source": [
        "# !pip install mljar-supervised\n",
        "from supervised.automl import AutoML"
      ],
      "execution_count": null,
      "outputs": []
    },
    {
      "cell_type": "markdown",
      "metadata": {
        "id": "Al3HJJBnWzPC"
      },
      "source": [
        "There is something wrong with imbalance libriary after install AutoML. So I create Over sampling train data from another notebook(same as previous)"
      ]
    },
    {
      "cell_type": "code",
      "metadata": {
        "id": "6obDaV4hYHsU"
      },
      "source": [
        "X_over = pd.read_csv('/content/drive/MyDrive/2021-travelers-modeling-competition/X_over.csv')\n",
        "y_over = pd.read_csv('/content/drive/MyDrive/2021-travelers-modeling-competition/y_over.csv')"
      ],
      "execution_count": null,
      "outputs": []
    },
    {
      "cell_type": "code",
      "metadata": {
        "id": "dNASyNrWb3n9"
      },
      "source": [
        "X_over.columns = X_train.columns.tolist()"
      ],
      "execution_count": null,
      "outputs": []
    },
    {
      "cell_type": "code",
      "metadata": {
        "id": "iHGCLBw6aXyY"
      },
      "source": [
        "X_val = pd.read_csv('/content/drive/MyDrive/2021-travelers-modeling-competition/X_val.csv')\n",
        "y_val = pd.read_csv('/content/drive/MyDrive/2021-travelers-modeling-competition/y_val.csv')"
      ],
      "execution_count": null,
      "outputs": []
    },
    {
      "cell_type": "code",
      "metadata": {
        "id": "-2NmmP_UZl0z"
      },
      "source": [
        "X_val = pd.DataFrame(X_val)"
      ],
      "execution_count": null,
      "outputs": []
    },
    {
      "cell_type": "code",
      "metadata": {
        "colab": {
          "base_uri": "https://localhost:8080/"
        },
        "id": "m1bbzHDYPpOq",
        "outputId": "872490f2-0163-445f-d873-b535c2150b05"
      },
      "source": [
        "automl = AutoML()\n",
        "automl.fit(X_train, y_train)\n",
        "\n",
        "predictions = automl.predict(X_val)"
      ],
      "execution_count": null,
      "outputs": [
        {
          "name": "stdout",
          "output_type": "stream",
          "text": [
            "Linear algorithm was disabled.\n",
            "AutoML directory: AutoML_1\n",
            "The task is binary_classification with evaluation metric logloss\n",
            "AutoML will use algorithms: ['Baseline', 'Decision Tree', 'Random Forest', 'Xgboost', 'Neural Network']\n",
            "AutoML will ensemble available models\n",
            "AutoML steps: ['simple_algorithms', 'default_algorithms', 'ensemble']\n",
            "* Step simple_algorithms will try to check up to 2 models\n",
            "1_Baseline logloss 0.433633 trained in 0.65 seconds\n",
            "2_DecisionTree logloss 0.417234 trained in 15.87 seconds\n",
            "* Step default_algorithms will try to check up to 3 models\n",
            "3_Default_Xgboost logloss 0.39764 trained in 14.78 seconds\n",
            "4_Default_NeuralNetwork logloss 0.40869 trained in 6.13 seconds\n",
            "5_Default_RandomForest logloss 0.405727 trained in 16.19 seconds\n",
            "* Step ensemble will try to check up to 1 model\n",
            "Ensemble logloss 0.394965 trained in 1.35 seconds\n",
            "AutoML fit time: 76.35 seconds\n",
            "AutoML best model: Ensemble\n"
          ]
        }
      ]
    },
    {
      "cell_type": "code",
      "metadata": {
        "colab": {
          "base_uri": "https://localhost:8080/"
        },
        "id": "R6Z01_a8RJrI",
        "outputId": "2fc8bade-6915-402a-b752-6439eb2aedbd"
      },
      "source": [
        "f1_score(y_val, predictions, average=None)"
      ],
      "execution_count": null,
      "outputs": [
        {
          "data": {
            "text/plain": [
              "array([0.90369207, 0.26586826])"
            ]
          },
          "execution_count": 22,
          "metadata": {},
          "output_type": "execute_result"
        }
      ]
    },
    {
      "cell_type": "code",
      "metadata": {
        "colab": {
          "background_save": true,
          "base_uri": "https://localhost:8080/"
        },
        "id": "2zS6JYwedxNO",
        "outputId": "592ad6e8-772d-49db-904f-b86af33bfece"
      },
      "source": [
        "automl = AutoML(mode='Compete')\n",
        "automl.fit(X_over, y_over)\n",
        "\n",
        "predictions = automl.predict(X_val)\n",
        "f1_score(y_val, predictions, average=None)"
      ],
      "execution_count": null,
      "outputs": [
        {
          "name": "stdout",
          "output_type": "stream",
          "text": [
            "Linear algorithm was disabled.\n",
            "AutoML directory: AutoML_2\n",
            "The task is binary_classification with evaluation metric logloss\n",
            "AutoML will use algorithms: ['Decision Tree', 'Random Forest', 'Extra Trees', 'LightGBM', 'Xgboost', 'CatBoost', 'Neural Network', 'Nearest Neighbors']\n",
            "AutoML will stack models\n",
            "AutoML will ensemble available models\n",
            "AutoML steps: ['adjust_validation', 'simple_algorithms', 'default_algorithms', 'not_so_random', 'golden_features', 'kmeans_features', 'insert_random_feature', 'features_selection', 'hill_climbing_1', 'hill_climbing_2', 'boost_on_errors', 'ensemble', 'stack', 'ensemble_stacked']\n",
            "* Step adjust_validation will try to check up to 1 model\n",
            "1_DecisionTree logloss 0.650633 trained in 1.54 seconds\n",
            "Adjust validation. Remove: 1_DecisionTree\n",
            "Validation strategy: 10-fold CV Shuffle,Stratify\n",
            "* Step simple_algorithms will try to check up to 3 models\n",
            "1_DecisionTree logloss 0.65105 trained in 7.96 seconds\n",
            "2_DecisionTree logloss 0.641702 trained in 8.4 seconds\n",
            "3_DecisionTree logloss 0.641702 trained in 8.62 seconds\n",
            "* Step default_algorithms will try to check up to 7 models\n",
            "4_Default_LightGBM logloss 0.045572 trained in 260.09 seconds\n",
            "5_Default_Xgboost logloss 0.100268 trained in 661.46 seconds\n",
            "* Step not_so_random will try to check up to 63 models\n",
            "15_LightGBM logloss 0.096416 trained in 431.97 seconds\n",
            "6_Xgboost logloss 0.102679 trained in 494.93 seconds\n",
            "* Step golden_features will try to check up to 3 models\n",
            "None 10\n",
            "Add Golden Feature: accident_site_diff_past_num_of_claims\n",
            "Add Golden Feature: high_education_ind_ratio_accident_site\n",
            "Add Golden Feature: accident_site_ratio_high_education_ind\n",
            "Add Golden Feature: accident_site_multiply_high_education_ind\n",
            "Add Golden Feature: accident_site_sum_high_education_ind\n",
            "Add Golden Feature: witness_present_ind_sum_accident_site\n",
            "Add Golden Feature: high_education_ind_diff_past_num_of_claims\n",
            "Add Golden Feature: past_num_of_claims_diff_witness_present_ind\n",
            "Add Golden Feature: address_change_ind_diff_accident_site\n",
            "Add Golden Feature: past_num_of_claims_ratio_age_of_driver\n",
            "Created 10 Golden Features in 15.4 seconds.\n",
            "4_Default_LightGBM_GoldenFeatures logloss 0.049637 trained in 300.08 seconds\n",
            "Skip kmeans_features because of the time limit.\n",
            "Not enough time to perform features selection. Skip\n",
            "Time needed for features selection ~ 524.0 seconds\n",
            "Please increase total_time_limit to at least (5299 seconds) to have features selection\n",
            "Skip insert_random_feature because no parameters were generated.\n",
            "Skip features_selection because no parameters were generated.\n",
            "* Step hill_climbing_1 will try to check up to 12 models\n",
            "16_LightGBM logloss 0.057583 trained in 601.87 seconds\n",
            "* Step hill_climbing_2 will try to check up to 11 models\n",
            "17_LightGBM logloss 0.040769 trained in 396.01 seconds\n",
            "Skip boost_on_errors because of the time limit.\n",
            "* Step ensemble will try to check up to 1 model\n",
            "Ensemble logloss 0.040153 trained in 7.6 seconds\n",
            "* Step stack will try to check up to 7 models\n",
            "17_LightGBM_Stacked logloss 0.021743 trained in 55.57 seconds\n",
            "5_Default_Xgboost_Stacked logloss 0.022662 trained in 76.16 seconds\n",
            "4_Default_LightGBM_Stacked logloss 0.021761 trained in 32.86 seconds\n",
            "6_Xgboost_Stacked logloss 0.022166 trained in 60.11 seconds\n",
            "4_Default_LightGBM_GoldenFeatures_Stacked logloss 0.021711 trained in 37.67 seconds\n",
            "16_LightGBM_Stacked logloss 0.022076 trained in 29.83 seconds\n",
            "15_LightGBM_Stacked logloss 0.021011 trained in 29.16 seconds\n",
            "* Step ensemble_stacked will try to check up to 1 model\n",
            "Ensemble_Stacked logloss 0.020739 trained in 10.4 seconds\n",
            "AutoML fit time: 3558.1 seconds\n",
            "AutoML best model: Ensemble_Stacked\n"
          ]
        },
        {
          "data": {
            "text/plain": [
              "array([0.91500904, 0.        ])"
            ]
          },
          "execution_count": null,
          "metadata": {},
          "output_type": "execute_result"
        }
      ]
    },
    {
      "cell_type": "code",
      "metadata": {
        "colab": {
          "base_uri": "https://localhost:8080/"
        },
        "id": "V_ntZlIfYxwr",
        "outputId": "435bad03-769c-4c51-e3c4-2235bed81f18"
      },
      "source": [
        "automl = AutoML(results_path='/content/AutoML_1')\n",
        "predictions = automl.predict(X_val)\n",
        "f1_score(y_val, predictions, average=None)"
      ],
      "execution_count": null,
      "outputs": [
        {
          "output_type": "execute_result",
          "data": {
            "text/plain": [
              "array([0.90369207, 0.26586826])"
            ]
          },
          "metadata": {},
          "execution_count": 51
        }
      ]
    },
    {
      "cell_type": "code",
      "metadata": {
        "id": "qGxvEyo6d8VM"
      },
      "source": [
        "pred_val = pd.DataFrame(predictions)"
      ],
      "execution_count": null,
      "outputs": []
    },
    {
      "cell_type": "code",
      "metadata": {
        "colab": {
          "base_uri": "https://localhost:8080/"
        },
        "id": "FMc4VkG2eKad",
        "outputId": "ff635090-0af0-4706-99d8-6565b9241b5a"
      },
      "source": [
        "pred_val.value_counts()"
      ],
      "execution_count": null,
      "outputs": [
        {
          "output_type": "execute_result",
          "data": {
            "text/plain": [
              "0    3599\n",
              "1       1\n",
              "dtype: int64"
            ]
          },
          "metadata": {},
          "execution_count": 48
        }
      ]
    },
    {
      "cell_type": "code",
      "metadata": {
        "colab": {
          "base_uri": "https://localhost:8080/"
        },
        "id": "2ujbcdSFeZn-",
        "outputId": "a9cfeb1e-5604-485f-e98d-b5f5c62dfc79"
      },
      "source": [
        "y_val.value_counts()"
      ],
      "execution_count": null,
      "outputs": [
        {
          "output_type": "execute_result",
          "data": {
            "text/plain": [
              "fraud\n",
              "0        3037\n",
              "1         563\n",
              "dtype: int64"
            ]
          },
          "metadata": {},
          "execution_count": 50
        }
      ]
    },
    {
      "cell_type": "code",
      "metadata": {
        "id": "LoTCgEd9evoD"
      },
      "source": [
        "X_smote = pd.read_csv('/content/drive/MyDrive/2021-travelers-modeling-competition/X_over.csv')\n",
        "y_smote = pd.read_csv('/content/drive/MyDrive/2021-travelers-modeling-competition/y_over.csv')"
      ],
      "execution_count": null,
      "outputs": []
    },
    {
      "cell_type": "code",
      "metadata": {
        "id": "WLKpDXBsen5M"
      },
      "source": [
        "AutoML()"
      ],
      "execution_count": null,
      "outputs": []
    },
    {
      "cell_type": "code",
      "metadata": {
        "colab": {
          "base_uri": "https://localhost:8080/"
        },
        "id": "xV5zkrt4fIAq",
        "outputId": "987be1de-4614-4c6f-99e7-8938eaefa5c6"
      },
      "source": [
        "automl = AutoML(results_path=\"AutoML_compete\",\n",
        "    mode='Compete',\n",
        "    algorithms=[\"CatBoost\", \"Xgboost\", \"LightGBM\"],\n",
        "    model_time_limit=30*60,\n",
        "    start_random_models=10,\n",
        "    hill_climbing_steps=3,\n",
        "    top_models_to_improve=3,\n",
        "    golden_features=True,\n",
        "    features_selection=False,\n",
        "    stack_models=True,\n",
        "    train_ensemble=True,\n",
        "    explain_level=0,\n",
        "    eval_metric='f1' ,\n",
        "    validation_strategy={\n",
        "        \"validation_type\": \"kfold\",\n",
        "        \"k_folds\": 3,\n",
        "        \"shuffle\": False,\n",
        "        \"stratify\": True,\n",
        "    }\n",
        ")\n",
        "automl.fit(X_over, y_over)\n",
        "\n",
        "predictions = automl.predict(X_val)\n",
        "f1_score(y_val, predictions, average=None)"
      ],
      "execution_count": null,
      "outputs": [
        {
          "output_type": "stream",
          "name": "stdout",
          "text": [
            "AutoML directory: AutoML_compete\n",
            "The task is binary_classification with evaluation metric f1\n",
            "AutoML will use algorithms: ['CatBoost', 'Xgboost', 'LightGBM']\n",
            "AutoML will stack models\n",
            "AutoML will ensemble available models\n",
            "AutoML steps: ['simple_algorithms', 'default_algorithms', 'not_so_random', 'golden_features', 'kmeans_features', 'hill_climbing_1', 'hill_climbing_2', 'hill_climbing_3', 'boost_on_errors', 'ensemble', 'stack', 'ensemble_stacked']\n",
            "Skip simple_algorithms because no parameters were generated.\n",
            "* Step default_algorithms will try to check up to 3 models\n",
            "1_Default_LightGBM f1 0.963511 trained in 108.04 seconds\n",
            "2_Default_Xgboost f1 0.943846 trained in 194.39 seconds\n",
            "3_Default_CatBoost f1 0.929267 trained in 44.2 seconds\n",
            "* Step not_so_random will try to check up to 27 models\n",
            "13_LightGBM f1 0.904932 trained in 145.44 seconds\n",
            "4_Xgboost f1 0.940488 trained in 103.86 seconds\n",
            "22_CatBoost f1 0.956018 trained in 81.99 seconds\n",
            "14_LightGBM f1 0.970984 trained in 71.29 seconds\n",
            "5_Xgboost f1 0.950597 trained in 85.0 seconds\n",
            "23_CatBoost f1 0.954954 trained in 57.9 seconds\n",
            "15_LightGBM f1 0.959535 trained in 90.29 seconds\n",
            "6_Xgboost f1 0.924522 trained in 213.78 seconds\n",
            "24_CatBoost f1 0.948188 trained in 53.83 seconds\n",
            "16_LightGBM f1 0.968707 trained in 105.87 seconds\n",
            "7_Xgboost f1 0.90589 trained in 203.6 seconds\n",
            "25_CatBoost f1 0.952994 trained in 41.92 seconds\n",
            "17_LightGBM f1 0.962987 trained in 60.37 seconds\n",
            "8_Xgboost f1 0.899465 trained in 251.22 seconds\n",
            "26_CatBoost f1 0.937424 trained in 51.73 seconds\n",
            "18_LightGBM f1 0.971288 trained in 98.38 seconds\n",
            "9_Xgboost f1 0.868398 trained in 222.92 seconds\n",
            "27_CatBoost f1 0.875787 trained in 48.71 seconds\n",
            "19_LightGBM f1 0.95725 trained in 97.56 seconds\n",
            "10_Xgboost f1 0.943566 trained in 186.39 seconds\n",
            "28_CatBoost f1 0.94758 trained in 110.73 seconds\n",
            "20_LightGBM f1 0.957837 trained in 86.81 seconds\n",
            "11_Xgboost f1 0.910494 trained in 238.97 seconds\n",
            "29_CatBoost f1 0.948536 trained in 55.11 seconds\n",
            "21_LightGBM f1 0.917147 trained in 141.3 seconds\n",
            "12_Xgboost f1 0.951472 trained in 155.12 seconds\n",
            "30_CatBoost f1 0.91536 trained in 68.64 seconds\n",
            "Skip golden_features because of the time limit.\n",
            "Skip kmeans_features because of the time limit.\n",
            "Skip hill_climbing_1 because of the time limit.\n",
            "Skip hill_climbing_2 because of the time limit.\n",
            "Skip hill_climbing_3 because of the time limit.\n",
            "Skip boost_on_errors because of the time limit.\n",
            "* Step ensemble will try to check up to 1 model\n",
            "Ensemble f1 0.974035 trained in 14.88 seconds\n",
            "* Step stack will try to check up to 30 models\n",
            "18_LightGBM_Stacked f1 0.994832 trained in 16.02 seconds\n",
            "22_CatBoost_Stacked f1 0.994542 trained in 20.55 seconds\n",
            "12_Xgboost_Stacked f1 0.994457 trained in 18.38 seconds\n",
            "14_LightGBM_Stacked f1 0.994996 trained in 12.55 seconds\n",
            "23_CatBoost_Stacked f1 0.994708 trained in 21.25 seconds\n",
            "5_Xgboost_Stacked f1 0.994707 trained in 22.37 seconds\n",
            "16_LightGBM_Stacked f1 0.994832 trained in 16.01 seconds\n",
            "25_CatBoost_Stacked f1 0.994582 trained in 17.9 seconds\n",
            "2_Default_Xgboost_Stacked f1 0.994582 trained in 20.11 seconds\n",
            "1_Default_LightGBM_Stacked f1 0.994749 trained in 14.51 seconds\n",
            "29_CatBoost_Stacked f1 0.994707 trained in 15.36 seconds\n",
            "10_Xgboost_Stacked f1 0.994336 trained in 16.7 seconds\n",
            "17_LightGBM_Stacked f1 0.994997 trained in 13.94 seconds\n",
            "24_CatBoost_Stacked f1 0.994749 trained in 15.08 seconds\n",
            "4_Xgboost_Stacked f1 0.994543 trained in 25.14 seconds\n",
            "15_LightGBM_Stacked f1 0.994872 trained in 14.54 seconds\n",
            "28_CatBoost_Stacked f1 0.994503 trained in 21.52 seconds\n",
            "6_Xgboost_Stacked f1 0.994007 trained in 20.32 seconds\n",
            "20_LightGBM_Stacked f1 0.995078 trained in 15.07 seconds\n",
            "26_CatBoost_Stacked f1 0.994541 trained in 15.93 seconds\n",
            "11_Xgboost_Stacked f1 0.994212 trained in 21.15 seconds\n",
            "19_LightGBM_Stacked f1 0.994872 trained in 20.91 seconds\n",
            "3_Default_CatBoost_Stacked f1 0.994624 trained in 15.52 seconds\n",
            "7_Xgboost_Stacked f1 0.994336 trained in 17.24 seconds\n",
            "21_LightGBM_Stacked f1 0.99483 trained in 14.99 seconds\n",
            "30_CatBoost_Stacked f1 0.994668 trained in 22.58 seconds\n",
            "8_Xgboost_Stacked f1 0.994295 trained in 20.7 seconds\n",
            "13_LightGBM_Stacked f1 0.994584 trained in 16.0 seconds\n",
            "27_CatBoost_Stacked f1 0.9945 trained in 12.33 seconds\n",
            "9_Xgboost_Stacked f1 0.994212 trained in 19.35 seconds\n",
            "* Step ensemble_stacked will try to check up to 1 model\n",
            "Ensemble_Stacked f1 0.995078 trained in 47.71 seconds\n",
            "AutoML fit time: 4193.79 seconds\n",
            "AutoML best model: 20_LightGBM_Stacked\n"
          ]
        },
        {
          "output_type": "execute_result",
          "data": {
            "text/plain": [
              "array([0.91484552, 0.        ])"
            ]
          },
          "metadata": {},
          "execution_count": 52
        }
      ]
    },
    {
      "cell_type": "code",
      "metadata": {
        "colab": {
          "base_uri": "https://localhost:8080/"
        },
        "id": "pWswfAPoiSLa",
        "outputId": "47377551-b839-4a63-ace0-402c851be258"
      },
      "source": [
        "automl = AutoML(results_path='/content/AutoML_compete', algorithms='Ensemble_Stacked')\n",
        "predictions = automl.predict(X_val)\n",
        "f1_score(y_val, predictions, average=None)"
      ],
      "execution_count": null,
      "outputs": [
        {
          "output_type": "execute_result",
          "data": {
            "text/plain": [
              "array([0.91484552, 0.        ])"
            ]
          },
          "metadata": {},
          "execution_count": 74
        }
      ]
    },
    {
      "cell_type": "markdown",
      "metadata": {
        "id": "MVQCiDr1XSgr"
      },
      "source": [
        "The AutoML did a bad prediction on fraud part of f1_score, however, its hyperparameter did improved 0.01 score on top of voting method. Will see it in next part."
      ]
    },
    {
      "cell_type": "markdown",
      "metadata": {
        "id": "ct95hmV1Xr8p"
      },
      "source": [
        "           \"model_type\": \"LightGBM\",\n",
        "            \"ml_task\": \"binary_classification\",\n",
        "            \"n_jobs\": -1,\n",
        "            \"seed\": 1242,\n",
        "            \"objective\": \"binary\",\n",
        "            \"num_leaves\": 31,\n",
        "            \"learning_rate\": 0.1,\n",
        "            \"feature_fraction\": 0.8,\n",
        "            \"bagging_fraction\": 0.8,\n",
        "            \"min_data_in_leaf\": 5,\n",
        "            \"metric\": \"custom\",\n",
        "            \"custom_eval_metric_name\": \"f1\",\n",
        "            \"explain_level\": 0"
      ]
    },
    {
      "cell_type": "markdown",
      "metadata": {
        "id": "TMJdDae3XxOs"
      },
      "source": [
        "            \"params\": {\n",
        "                \"model_type\": \"CatBoost\",\n",
        "                \"ml_task\": \"binary_classification\",\n",
        "                \"n_jobs\": -1,\n",
        "                \"seed\": 1238,\n",
        "                \"learning_rate\": 0.2,\n",
        "                \"depth\": 8,\n",
        "                \"rsm\": 1.0,\n",
        "                \"loss_function\": \"Logloss\",\n",
        "                \"eval_metric\": \"F1\",\n",
        "                \"explain_level\": 0\n",
        "            },"
      ]
    },
    {
      "cell_type": "markdown",
      "metadata": {
        "id": "b9tZybD6X9CE"
      },
      "source": [
        "            \"params\": {\n",
        "                \"model_type\": \"Xgboost\",\n",
        "                \"ml_task\": \"binary_classification\",\n",
        "                \"n_jobs\": -1,\n",
        "                \"seed\": 1240,\n",
        "                \"objective\": \"binary:logistic\",\n",
        "                \"eta\": 0.1,\n",
        "                \"max_depth\": 4,\n",
        "                \"min_child_weight\": 25,\n",
        "                \"subsample\": 0.7,\n",
        "                \"colsample_bytree\": 0.7,\n",
        "                \"eval_metric\": \"f1\",\n",
        "                \"explain_level\": 0\n",
        "            },"
      ]
    },
    {
      "cell_type": "markdown",
      "metadata": {
        "id": "Gr_AUZ_iFtyy"
      },
      "source": [
        "## 5.Ensamble methods\n",
        "\n",
        "*   Voting\n",
        "*   Stacking\n",
        "\n"
      ]
    },
    {
      "cell_type": "markdown",
      "metadata": {
        "id": "5mB_rxtCGFet"
      },
      "source": [
        "###5.1 Voting\n",
        "\n",
        "\n",
        "*   Soft voting \n",
        "*   Hard Voting\n",
        "\n"
      ]
    },
    {
      "cell_type": "code",
      "metadata": {
        "colab": {
          "base_uri": "https://localhost:8080/"
        },
        "id": "-yc66Z0zGIsg",
        "outputId": "d14ffcfe-cf13-4419-c170-39774607a24d"
      },
      "source": [
        "#XGB\n",
        "clf_xgb = XGBClassifier()\n",
        "#LGBM\n",
        "clf_lgb = LGBMClassifier()\n",
        "#CatBoost\n",
        "clf_cat = CatBoostClassifier(verbose=False)\n",
        "\n",
        "\n",
        "clf_soft = VotingClassifier(estimators=[('cat', clf_cat), ('xgb', clf_xgb), ('lgb', clf_lgb)], voting='soft')\n",
        "clf_soft = clf_soft.fit(X_over,y_over)\n",
        "y_pred_soft = np.rint(clf_soft.predict_proba(X_val)[:, 1])\n",
        "# y_pred_soft \n",
        "f1_score(y_val, y_pred_soft, average=None)"
      ],
      "execution_count": 44,
      "outputs": [
        {
          "output_type": "execute_result",
          "data": {
            "text/plain": [
              "array([0.8354163 , 0.38446346])"
            ]
          },
          "metadata": {},
          "execution_count": 44
        }
      ]
    },
    {
      "cell_type": "code",
      "metadata": {
        "colab": {
          "base_uri": "https://localhost:8080/"
        },
        "id": "kZRLXky6GWEf",
        "outputId": "b3b4a93e-584d-4d62-b8ff-8dc072a901fe"
      },
      "source": [
        "#XGB\n",
        "clf_xgb = XGBClassifier()\n",
        "#LGBM\n",
        "clf_lgb = LGBMClassifier()\n",
        "\n",
        "\n",
        "clf_soft = VotingClassifier(estimators=[('xgb', clf_xgb), ('lgb', clf_lgb)], voting='soft')\n",
        "clf_soft = clf_soft.fit(X_over,y_over)\n",
        "y_pred_soft = np.rint(clf_soft.predict_proba(X_val)[:, 1])\n",
        "# y_pred_soft \n",
        "f1_score(y_val, y_pred_soft, average=None)"
      ],
      "execution_count": 45,
      "outputs": [
        {
          "output_type": "execute_result",
          "data": {
            "text/plain": [
              "array([0.80996545, 0.3856555 ])"
            ]
          },
          "metadata": {},
          "execution_count": 45
        }
      ]
    },
    {
      "cell_type": "code",
      "metadata": {
        "colab": {
          "base_uri": "https://localhost:8080/"
        },
        "id": "nQOvvUG7GzR3",
        "outputId": "66d5febe-0506-42cb-8e68-9268b69c2015"
      },
      "source": [
        "#XGB\n",
        "clf_xgb = XGBClassifier()\n",
        "#LGBM\n",
        "clf_lgb = LGBMClassifier()\n",
        "#CatBoost\n",
        "clf_cat = CatBoostClassifier(verbose=False)\n",
        "\n",
        "\n",
        "clf_soft = VotingClassifier(estimators=[('cat', clf_cat), ('xgb', clf_xgb), ('lgb', clf_lgb)], voting='hard')\n",
        "clf_soft = clf_soft.fit(X_over,y_over)\n",
        "y_pred_hard = (clf_soft.predict(X_val))\n",
        "# y_pred_soft \n",
        "f1_score(y_val, y_pred_hard, average=None)"
      ],
      "execution_count": 46,
      "outputs": [
        {
          "output_type": "execute_result",
          "data": {
            "text/plain": [
              "array([0.82961389, 0.38095238])"
            ]
          },
          "metadata": {},
          "execution_count": 46
        }
      ]
    },
    {
      "cell_type": "code",
      "metadata": {
        "colab": {
          "base_uri": "https://localhost:8080/"
        },
        "id": "wJlt3ANzHL0f",
        "outputId": "cdf37707-27c3-46a6-ba14-ebfdbcf0dbc9"
      },
      "source": [
        "#XGB\n",
        "clf_xgb = XGBClassifier()\n",
        "#LGBM\n",
        "clf_lgb = LGBMClassifier()\n",
        "\n",
        "\n",
        "clf_soft = VotingClassifier(estimators=[ ('xgb', clf_xgb), ('lgb', clf_lgb)], voting='hard')\n",
        "clf_soft = clf_soft.fit(X_over,y_over)\n",
        "y_pred_hard = (clf_soft.predict(X_val))\n",
        "# y_pred_soft \n",
        "f1_score(y_val, y_pred_hard, average=None)"
      ],
      "execution_count": 47,
      "outputs": [
        {
          "output_type": "execute_result",
          "data": {
            "text/plain": [
              "array([0.84111498, 0.37534247])"
            ]
          },
          "metadata": {},
          "execution_count": 47
        }
      ]
    },
    {
      "cell_type": "markdown",
      "metadata": {
        "id": "exrWKEo7HRiH"
      },
      "source": [
        "Soft voting with two models (XBG+LGBM) got the best f1 score: 0.385"
      ]
    },
    {
      "cell_type": "code",
      "metadata": {
        "colab": {
          "base_uri": "https://localhost:8080/"
        },
        "id": "uS2GCIIxYODV",
        "outputId": "7f5a2159-da83-4f1f-b018-c076d0b5d5bf"
      },
      "source": [
        "#XGB\n",
        "clf_xgb = XGBClassifier(objective='binary:logistic', n_jobs=-1, seed=1240, eta=0.1, max_depth=4, min_child_weight=25, subsample=0.7, colsample_bytree=0.7, best_ntree_limit=64)\n",
        "#LGBM\n",
        "clf_lgb = LGBMClassifier(n_jobs=-1, objective='binary', num_leaves=63, learning_rate=0.035, feature_fraction=0.9, bagging_fraction=0.9, min_data_in_leaf=10)\n",
        "\n",
        "\n",
        "clf_soft = VotingClassifier(estimators=[('xgb', clf_xgb), ('lgb', clf_lgb)], voting='soft')\n",
        "clf_soft = clf_soft.fit(X_over,y_over)\n",
        "y_pred_soft = np.rint(clf_soft.predict_proba(X_val)[:, 1])\n",
        "# y_pred_soft \n",
        "f1_score(y_val, y_pred_soft, average=None)"
      ],
      "execution_count": 49,
      "outputs": [
        {
          "output_type": "execute_result",
          "data": {
            "text/plain": [
              "array([0.81171548, 0.39224897])"
            ]
          },
          "metadata": {},
          "execution_count": 49
        }
      ]
    },
    {
      "cell_type": "code",
      "metadata": {
        "colab": {
          "base_uri": "https://localhost:8080/",
          "height": 296
        },
        "id": "5IQg5XszZakc",
        "outputId": "7f02e2db-1684-4077-d7bc-5393768f1e70"
      },
      "source": [
        "plot_confusion_matrix(clf_soft, X_val, y_val, values_format='d')"
      ],
      "execution_count": 50,
      "outputs": [
        {
          "output_type": "execute_result",
          "data": {
            "text/plain": [
              "<sklearn.metrics._plot.confusion_matrix.ConfusionMatrixDisplay at 0x7f6fbfff6710>"
            ]
          },
          "metadata": {},
          "execution_count": 50
        },
        {
          "output_type": "display_data",
          "data": {
            "image/png": "[encoded data removed]",
            "text/plain": [
              "<Figure size 432x288 with 2 Axes>"
            ]
          },
          "metadata": {
            "needs_background": "light"
          }
        }
      ]
    },
    {
      "cell_type": "markdown",
      "metadata": {
        "id": "Vf0juuAgYWKF"
      },
      "source": [
        "Use Random Over Sampling + soft Voting(XGB+LGBM) + Hyperparameter tuning improve f1_score to 0.392"
      ]
    },
    {
      "cell_type": "markdown",
      "metadata": {
        "id": "rc3BhF7kR-Na"
      },
      "source": [
        "###5.2 Stacking"
      ]
    },
    {
      "cell_type": "code",
      "metadata": {
        "colab": {
          "base_uri": "https://localhost:8080/"
        },
        "id": "mgVjS8-i2pc3",
        "outputId": "dea8930f-7631-4049-cc9c-8f4a316fd932"
      },
      "source": [
        "#XGB\n",
        "clf_xgb = XGBClassifier(objective='binary:logistic', n_jobs=-1, seed=1240, eta=0.1, max_depth=4, min_child_weight=25, subsample=0.7, colsample_bytree=0.7, best_ntree_limit=64)\n",
        "#LGBM\n",
        "clf_lgb = LGBMClassifier(n_jobs=-1, objective='binary', num_leaves=63, learning_rate=0.035, feature_fraction=0.9, bagging_fraction=0.9, min_data_in_leaf=10)\n",
        "#CatBoost\n",
        "clf_cat = CatBoostClassifier()\n",
        "\n",
        "clf_stack = StackingClassifier(estimators=[('xgb', clf_xgb)], final_estimator=clf_lgb)\n",
        "clf_stack = clf_stack.fit(X_over,y_over)\n",
        "y_pred_stack = clf_stack.predict(X_val)\n",
        "f1_score(y_val, y_pred_stack, average=None)"
      ],
      "execution_count": null,
      "outputs": [
        {
          "output_type": "execute_result",
          "data": {
            "text/plain": [
              "array([0.78679351, 0.37846656])"
            ]
          },
          "metadata": {},
          "execution_count": 156
        }
      ]
    },
    {
      "cell_type": "code",
      "metadata": {
        "colab": {
          "base_uri": "https://localhost:8080/"
        },
        "id": "HiNSDxor2pLM",
        "outputId": "1f007c91-99b7-45ef-9762-2a575566ffd2"
      },
      "source": [
        "#XGB\n",
        "clf_xgb = XGBClassifier(objective='binary:logistic', n_jobs=-1, seed=1240, eta=0.1, max_depth=4, min_child_weight=25, subsample=0.7, colsample_bytree=0.7, best_ntree_limit=64)\n",
        "#LGBM\n",
        "clf_lgb = LGBMClassifier(n_jobs=-1, objective='binary', num_leaves=63, learning_rate=0.035, feature_fraction=0.9, bagging_fraction=0.9, min_data_in_leaf=10)\n",
        "#CatBoost\n",
        "# clf_cat = CatBoostClassifier(verbose=False)\n",
        "\n",
        "clf_stack = StackingClassifier(estimators=[('lgb', clf_lgb), ('xgb', clf_xgb)], final_estimator=clf_lgb)\n",
        "clf_stack = clf_stack.fit(X_over,y_over)\n",
        "y_pred_stack = clf_stack.predict(X_val)\n",
        "f1_score(y_val, y_pred_stack, average=None)\n",
        "\n",
        "\n"
      ],
      "execution_count": null,
      "outputs": [
        {
          "output_type": "execute_result",
          "data": {
            "text/plain": [
              "array([0.8463136 , 0.37552743])"
            ]
          },
          "metadata": {},
          "execution_count": 341
        }
      ]
    },
    {
      "cell_type": "code",
      "metadata": {
        "colab": {
          "base_uri": "https://localhost:8080/"
        },
        "id": "eAyWcjQ92pH9",
        "outputId": "496fd9d9-5867-4f7e-f379-881a1167bd91"
      },
      "source": [
        "from mlxtend.classifier import StackingCVClassifier \n",
        "from sklearn.neural_network import MLPClassifier\n",
        "#XGB\n",
        "clf_xgb = XGBClassifier(objective='binary:logistic', n_jobs=-1, seed=1240, eta=0.1, max_depth=4, min_child_weight=25, subsample=0.7, colsample_bytree=0.7, best_ntree_limit=64)\n",
        "#LGBM\n",
        "clf_lgb = LGBMClassifier(n_jobs=-1, objective='binary', num_leaves=63, learning_rate=0.035, feature_fraction=0.9, bagging_fraction=0.9, min_data_in_leaf=10)\n",
        "#CatBoost\n",
        "clf_cat = CatBoostClassifier(verbose=False)\n",
        "\n",
        "# Initializing Multi-layer perceptron  classifier\n",
        "clf_mlp = MLPClassifier(activation = \"relu\", alpha = 0.1, hidden_layer_sizes = (100,100,100),\n",
        "                            learning_rate = \"constant\", max_iter = 2000, random_state = 1000)\n",
        "\n",
        "# Initializing the StackingCV classifier\n",
        "sclf = StackingCVClassifier(classifiers = [clf_xgb, clf_lgb, clf_cat],\n",
        "                            shuffle = False,\n",
        "                            use_probas = True,\n",
        "                            cv = 10,\n",
        "                            meta_classifier = clf_mlp)\n",
        "\n",
        "# Create list to store classifiers\n",
        "classifiers = {\"xgb\": clf_xgb,\n",
        "               \"lgb\": clf_lgb,\n",
        "               \"Stack\": sclf}\n",
        "\n",
        "# Train classifiers\n",
        "for key in classifiers:\n",
        "    # Get classifier\n",
        "    classifier = classifiers[key]\n",
        "    \n",
        "    # Fit classifier\n",
        "    classifier.fit(X_over.to_numpy(), y_over)\n",
        "        \n",
        "    # Save fitted classifier\n",
        "    classifiers[key] = classifier\n",
        "\n",
        "# Get results\n",
        "results = pd.DataFrame()\n",
        "for key in classifiers:\n",
        "    # Make prediction on test set\n",
        "    y_pred = classifiers[key].predict_proba(X_val.to_numpy())[:,1]\n",
        "    \n",
        "    # Save results in pandas dataframe object\n",
        "    results[f\"{key}\"] = y_pred\n",
        "\n",
        "# Add the test set to the results object\n",
        "# results[\"Target\"] = y_val\n",
        "f1_score(y_val, np.rint(results['Stack']), average=None)"
      ],
      "execution_count": null,
      "outputs": [
        {
          "output_type": "execute_result",
          "data": {
            "text/plain": [
              "array([0.89607535, 0.20240964])"
            ]
          },
          "metadata": {},
          "execution_count": 389
        }
      ]
    },
    {
      "cell_type": "markdown",
      "metadata": {
        "id": "_bvpYnQsZAX2"
      },
      "source": [
        "Stacking method fails to beat soft voting method even adding deep learning models"
      ]
    },
    {
      "cell_type": "markdown",
      "metadata": {
        "id": "UexGSoOfZgXi"
      },
      "source": [
        "##6. Feature Engineering & EDA"
      ]
    },
    {
      "cell_type": "markdown",
      "metadata": {
        "id": "n9A5d8XCZnZZ"
      },
      "source": [
        "It may because of lacking of domain knowledge, I use different kinds of FE methods to try to reveal more infomation to the models, but failed. The best score I got in kaggle is 0.3966 for the test data. Below are the EDA and FE I explored:"
      ]
    },
    {
      "cell_type": "code",
      "metadata": {
        "id": "RZa3yK3YSOOc"
      },
      "source": [
        ""
      ],
      "execution_count": null,
      "outputs": []
    },
    {
      "cell_type": "code",
      "metadata": {
        "id": "iYpmRX84ISjP"
      },
      "source": [
        "def ohec(df1,df2, feature1):\n",
        "  ohec = OneHotEncoder()\n",
        "  data = pd.concat([df1, df2])\n",
        "  flist = data[feature1].unique() \n",
        "  new_col = [] # create new columns name list \n",
        "  for f in flist:\n",
        "    cn = feature1 + \"_\" + f\n",
        "    new_col.append(cn)\n",
        "  df1[new_col] = ohec.fit_transform(df1[[feature1]]).toarray()\n",
        "  df1[new_col] = df1[new_col].astype(int)\n",
        "  df2[new_col] = ohec.fit_transform(df2[[feature1]]).toarray()\n",
        "  df2[new_col] = df2[new_col].astype(int)\n",
        "  df1 = df1.drop(columns=feature1, axis=1)\n",
        "  df2 = df2.drop(columns=feature1, axis=1)\n"
      ],
      "execution_count": null,
      "outputs": []
    },
    {
      "cell_type": "code",
      "metadata": {
        "id": "QkNtjaFMJgL5"
      },
      "source": [
        "ohec(train,test, 'claim_day_of_week')"
      ],
      "execution_count": null,
      "outputs": []
    },
    {
      "cell_type": "code",
      "metadata": {
        "id": "Vm3ha2l8MJlu"
      },
      "source": [
        "ohec(train,test, 'accident_site')"
      ],
      "execution_count": null,
      "outputs": []
    },
    {
      "cell_type": "code",
      "metadata": {
        "id": "wCBQCOP3MqSi"
      },
      "source": [
        "ohec(train,test, 'channel')"
      ],
      "execution_count": null,
      "outputs": []
    },
    {
      "cell_type": "code",
      "metadata": {
        "id": "Um19v2RwM2cK"
      },
      "source": [
        "ohec(train,test, 'vehicle_category')"
      ],
      "execution_count": null,
      "outputs": []
    },
    {
      "cell_type": "code",
      "metadata": {
        "id": "cFvYl1JDM9Ui"
      },
      "source": [
        "ohec(train,test, 'vehicle_color')"
      ],
      "execution_count": null,
      "outputs": []
    },
    {
      "cell_type": "code",
      "metadata": {
        "colab": {
          "base_uri": "https://localhost:8080/"
        },
        "id": "dRJkqgUAJgJH",
        "outputId": "c6d8cb16-37ca-4588-8368-27847de603e3"
      },
      "source": [
        "train.select_dtypes(include=['object', 'category']).columns"
      ],
      "execution_count": null,
      "outputs": [
        {
          "output_type": "execute_result",
          "data": {
            "text/plain": [
              "Index(['gender', 'living_status', 'claim_date', 'claim_day_of_week',\n",
              "       'accident_site', 'channel', 'vehicle_category', 'vehicle_color'],\n",
              "      dtype='object')"
            ]
          },
          "metadata": {},
          "execution_count": 268
        }
      ]
    },
    {
      "cell_type": "code",
      "metadata": {
        "id": "Y_LaDD6eNI2J"
      },
      "source": [
        "train = train.drop(columns=['claim_day_of_week','accident_site', 'channel', 'vehicle_category', 'vehicle_color'], axis=1)"
      ],
      "execution_count": null,
      "outputs": []
    },
    {
      "cell_type": "code",
      "metadata": {
        "id": "mNgAJNFJNUid"
      },
      "source": [
        "test = test.drop(columns=['claim_day_of_week','accident_site', 'channel', 'vehicle_category', 'vehicle_color'], axis=1)"
      ],
      "execution_count": null,
      "outputs": []
    },
    {
      "cell_type": "markdown",
      "metadata": {
        "id": "VDDstDFkNi-0"
      },
      "source": [
        "Zipcode"
      ]
    },
    {
      "cell_type": "code",
      "metadata": {
        "id": "gD9qIC0sNdJ-"
      },
      "source": [
        "! pip install uszipcode"
      ],
      "execution_count": null,
      "outputs": []
    },
    {
      "cell_type": "code",
      "metadata": {
        "colab": {
          "base_uri": "https://localhost:8080/"
        },
        "id": "irWRG1SUOIsN",
        "outputId": "10f112ac-1814-4d83-8969-1c46d597628b"
      },
      "source": [
        "# map zipcode to state \n",
        "from uszipcode import SearchEngine, SimpleZipcode, Zipcode\n",
        "search = SearchEngine()\n",
        "\n",
        "def zco(x):\n",
        "    state = search.by_zipcode(x).state\n",
        "    return state if state else 'None'\n",
        "\n",
        "train['state'] = train['zip_code'].apply(zco)\n",
        "test['state'] = test['zip_code'].apply(zco)"
      ],
      "execution_count": null,
      "outputs": [
        {
          "output_type": "stream",
          "name": "stdout",
          "text": [
            "Start downloading data for simple zipcode database, total size 9MB ...\n",
            "  1 MB finished ...\n",
            "  2 MB finished ...\n",
            "  3 MB finished ...\n",
            "  4 MB finished ...\n",
            "  5 MB finished ...\n",
            "  6 MB finished ...\n",
            "  7 MB finished ...\n",
            "  8 MB finished ...\n",
            "  9 MB finished ...\n",
            "  10 MB finished ...\n",
            "  Complete!\n"
          ]
        }
      ]
    },
    {
      "cell_type": "code",
      "metadata": {
        "colab": {
          "base_uri": "https://localhost:8080/"
        },
        "id": "jUx5EsLDOIi6",
        "outputId": "83cf8107-7021-4efe-d589-37cfa48a24f8"
      },
      "source": [
        "# map zipcode to major city\n",
        "from uszipcode import SearchEngine, SimpleZipcode, Zipcode\n",
        "search = SearchEngine()\n",
        "\n",
        "def zco_city(x):\n",
        "    city = search.by_zipcode(x).major_city\n",
        "    return city if city else 'None'\n",
        "\n",
        "train['city'] = train['zip_code'].apply(zco_city)\n",
        "test['city'] = test['zip_code'].apply(zco_city)"
      ],
      "execution_count": null,
      "outputs": [
        {
          "output_type": "stream",
          "name": "stderr",
          "text": [
            "Exception ignored in: <function SearchEngine.__del__ at 0x7fe7981e64d0>\n",
            "Traceback (most recent call last):\n",
            "  File \"/usr/local/lib/python3.7/dist-packages/uszipcode/search.py\", line 127, in __del__\n",
            "  File \"/usr/local/lib/python3.7/dist-packages/uszipcode/search.py\", line 133, in close\n",
            "  File \"/usr/local/lib/python3.7/dist-packages/sqlalchemy/orm/session.py\", line 1786, in close\n",
            "  File \"/usr/local/lib/python3.7/dist-packages/sqlalchemy/orm/session.py\", line 1828, in _close_impl\n",
            "  File \"/usr/local/lib/python3.7/dist-packages/sqlalchemy/orm/session.py\", line 923, in close\n",
            "  File \"/usr/local/lib/python3.7/dist-packages/sqlalchemy/engine/base.py\", line 2315, in close\n",
            "  File \"/usr/local/lib/python3.7/dist-packages/sqlalchemy/engine/base.py\", line 2531, in _do_close\n",
            "  File \"/usr/local/lib/python3.7/dist-packages/sqlalchemy/engine/base.py\", line 2517, in _close_impl\n",
            "  File \"/usr/local/lib/python3.7/dist-packages/sqlalchemy/engine/base.py\", line 2509, in _connection_rollback_impl\n",
            "  File \"/usr/local/lib/python3.7/dist-packages/sqlalchemy/engine/base.py\", line 965, in _rollback_impl\n",
            "  File \"/usr/local/lib/python3.7/dist-packages/sqlalchemy/engine/base.py\", line 2024, in _handle_dbapi_exception\n",
            "  File \"/usr/local/lib/python3.7/dist-packages/sqlalchemy/util/compat.py\", line 207, in raise_\n",
            "  File \"/usr/local/lib/python3.7/dist-packages/sqlalchemy/engine/base.py\", line 963, in _rollback_impl\n",
            "  File \"/usr/local/lib/python3.7/dist-packages/sqlalchemy/engine/default.py\", line 667, in do_rollback\n",
            "sqlalchemy.exc.ProgrammingError: (sqlite3.ProgrammingError) SQLite objects created in a thread can only be used in that same thread. The object was created in thread id 140634424432512 and this is thread id 140633764759296.\n",
            "(Background on this error at: https://sqlalche.me/e/14/f405)\n"
          ]
        }
      ]
    },
    {
      "cell_type": "code",
      "metadata": {
        "colab": {
          "base_uri": "https://localhost:8080/"
        },
        "id": "T0KRAXPoOIYV",
        "outputId": "6997d6a0-245a-4136-dcdf-fb079161471d"
      },
      "source": [
        "# map zipcode to state and major city\n",
        "from uszipcode import SearchEngine, SimpleZipcode, Zipcode\n",
        "search = SearchEngine()\n",
        "\n",
        "def zco_county(x):\n",
        "    county = search.by_zipcode(x).county\n",
        "    return county if county else 'None'\n",
        "\n",
        "train['county'] = train['zip_code'].apply(zco_county)\n",
        "test['county'] = test['zip_code'].apply(zco_county)"
      ],
      "execution_count": null,
      "outputs": [
        {
          "output_type": "stream",
          "name": "stderr",
          "text": [
            "Exception ignored in: <function SearchEngine.__del__ at 0x7fe7981e64d0>\n",
            "Traceback (most recent call last):\n",
            "  File \"/usr/local/lib/python3.7/dist-packages/uszipcode/search.py\", line 127, in __del__\n",
            "  File \"/usr/local/lib/python3.7/dist-packages/uszipcode/search.py\", line 133, in close\n",
            "  File \"/usr/local/lib/python3.7/dist-packages/sqlalchemy/orm/session.py\", line 1786, in close\n",
            "  File \"/usr/local/lib/python3.7/dist-packages/sqlalchemy/orm/session.py\", line 1828, in _close_impl\n",
            "  File \"/usr/local/lib/python3.7/dist-packages/sqlalchemy/orm/session.py\", line 923, in close\n",
            "  File \"/usr/local/lib/python3.7/dist-packages/sqlalchemy/engine/base.py\", line 2315, in close\n",
            "  File \"/usr/local/lib/python3.7/dist-packages/sqlalchemy/engine/base.py\", line 2531, in _do_close\n",
            "  File \"/usr/local/lib/python3.7/dist-packages/sqlalchemy/engine/base.py\", line 2517, in _close_impl\n",
            "  File \"/usr/local/lib/python3.7/dist-packages/sqlalchemy/engine/base.py\", line 2509, in _connection_rollback_impl\n",
            "  File \"/usr/local/lib/python3.7/dist-packages/sqlalchemy/engine/base.py\", line 965, in _rollback_impl\n",
            "  File \"/usr/local/lib/python3.7/dist-packages/sqlalchemy/engine/base.py\", line 2024, in _handle_dbapi_exception\n",
            "  File \"/usr/local/lib/python3.7/dist-packages/sqlalchemy/util/compat.py\", line 207, in raise_\n",
            "  File \"/usr/local/lib/python3.7/dist-packages/sqlalchemy/engine/base.py\", line 963, in _rollback_impl\n",
            "  File \"/usr/local/lib/python3.7/dist-packages/sqlalchemy/engine/default.py\", line 667, in do_rollback\n",
            "sqlalchemy.exc.ProgrammingError: (sqlite3.ProgrammingError) SQLite objects created in a thread can only be used in that same thread. The object was created in thread id 140634424432512 and this is thread id 140633764759296.\n",
            "(Background on this error at: https://sqlalche.me/e/14/f405)\n"
          ]
        }
      ]
    },
    {
      "cell_type": "markdown",
      "metadata": {
        "id": "OVKoPTBCOzNP"
      },
      "source": [
        "Holiday"
      ]
    },
    {
      "cell_type": "code",
      "metadata": {
        "id": "B3VbFR0xOIKn"
      },
      "source": [
        "from pandas.tseries.holiday import USFederalHolidayCalendar as calendar\n",
        "dr = pd.date_range(start='2015-01-01', end='2016-12-31')\n",
        "\n",
        "\n",
        "cal = calendar()\n",
        "holidays = cal.holidays(start=dr.min(), end=dr.max(), return_name=True)\n",
        "\n",
        "train['Holiday'] =train['claim_date'].apply(lambda x: holidays.get(x))\n",
        "test['Holiday'] =test['claim_date'].apply(lambda x: holidays.get(x))\n",
        "\n",
        "train['Holiday'] = train['Holiday'].fillna('Workday')\n",
        "test['Holiday'] = test['Holiday'].fillna('Workday')"
      ],
      "execution_count": null,
      "outputs": []
    },
    {
      "cell_type": "code",
      "metadata": {
        "id": "vNOu95O_O-P7"
      },
      "source": [
        "ohec(train,test, 'Holiday')"
      ],
      "execution_count": null,
      "outputs": []
    },
    {
      "cell_type": "code",
      "metadata": {
        "id": "HNT2XzhCPEXn"
      },
      "source": [
        "train = train.drop(columns=['Holiday'], axis=1)\n",
        "test = test.drop(columns=['Holiday'], axis=1)"
      ],
      "execution_count": null,
      "outputs": []
    },
    {
      "cell_type": "code",
      "metadata": {
        "colab": {
          "base_uri": "https://localhost:8080/"
        },
        "id": "JqtaWw3_PTek",
        "outputId": "c00d237c-5d74-429d-e24e-a971ded77350"
      },
      "source": [
        "train.select_dtypes(include=['object', 'category']).columns"
      ],
      "execution_count": null,
      "outputs": [
        {
          "output_type": "execute_result",
          "data": {
            "text/plain": [
              "Index(['gender', 'living_status', 'claim_date', 'state', 'city', 'county'], dtype='object')"
            ]
          },
          "metadata": {},
          "execution_count": 286
        }
      ]
    },
    {
      "cell_type": "code",
      "metadata": {
        "colab": {
          "base_uri": "https://localhost:8080/"
        },
        "id": "Rnd3K11SPTiC",
        "outputId": "4d2889e7-86f0-40bf-f28e-488bbe6d995e"
      },
      "source": [
        "train['zip_code'].nunique()"
      ],
      "execution_count": null,
      "outputs": [
        {
          "output_type": "execute_result",
          "data": {
            "text/plain": [
              "276"
            ]
          },
          "metadata": {},
          "execution_count": 295
        }
      ]
    },
    {
      "cell_type": "markdown",
      "metadata": {
        "id": "eNP1aAgTQWKi"
      },
      "source": [
        "Frequency encoding"
      ]
    },
    {
      "cell_type": "code",
      "metadata": {
        "id": "gJRG83wSPTb7"
      },
      "source": [
        "# FREQUENCY ENCODE TOGETHER\n",
        "def encode_FE(df1, df2, cols):\n",
        "    for col in cols:\n",
        "        df = pd.concat([df1[col],df2[col]])\n",
        "        vc = df.value_counts(dropna=True, normalize=True).to_dict()\n",
        "        vc[-1] = -1\n",
        "        nm = col+'_FE'\n",
        "        df1[nm] = df1[col].map(vc)\n",
        "        df1[nm] = df1[nm].astype('float32')\n",
        "        df2[nm] = df2[col].map(vc)\n",
        "        df2[nm] = df2[nm].astype('float32')\n",
        "        print(nm,', ',end='')"
      ],
      "execution_count": null,
      "outputs": []
    },
    {
      "cell_type": "code",
      "metadata": {
        "colab": {
          "base_uri": "https://localhost:8080/"
        },
        "id": "odovsck7QYHh",
        "outputId": "d215fbf6-7724-4f0a-8525-e6e85d752cf1"
      },
      "source": [
        "encode_FE(train, test, ['state', 'zip_code', 'claim_date', 'city', 'county'])"
      ],
      "execution_count": null,
      "outputs": [
        {
          "output_type": "stream",
          "name": "stdout",
          "text": [
            "state_FE , zip_code_FE , claim_date_FE , city_FE , county_FE , "
          ]
        }
      ]
    },
    {
      "cell_type": "code",
      "metadata": {
        "id": "ltSEzK56Q707"
      },
      "source": [
        ""
      ],
      "execution_count": null,
      "outputs": []
    },
    {
      "cell_type": "code",
      "metadata": {
        "id": "PGDqoCU-EIex"
      },
      "source": [
        "def cat2num (cols_list):\n",
        "  for col in cols_list:\n",
        "    le = LabelEncoder()\n",
        "    le.fit(list(train[col].astype(str).values) + list(test[col].astype(str).values))\n",
        "    train[col] = le.transform(list(train[col].astype(str).values))\n",
        "    test[col] = le.transform(list(test[col].astype(str).values))"
      ],
      "execution_count": null,
      "outputs": []
    },
    {
      "cell_type": "code",
      "metadata": {
        "id": "yn55nZc8EIey"
      },
      "source": [
        "cols_list = train.select_dtypes(include=['object', 'category']).columns.tolist()\n",
        "cat2num(cols_list)"
      ],
      "execution_count": null,
      "outputs": []
    },
    {
      "cell_type": "code",
      "metadata": {
        "id": "KirmWO_MEIey"
      },
      "source": [
        "X, y = train.drop(columns='fraud', axis=1), train.fraud\n",
        "# X = X.drop(columns='claim_number', axis=1)"
      ],
      "execution_count": null,
      "outputs": []
    },
    {
      "cell_type": "code",
      "metadata": {
        "id": "8QeI_WC9S0YK"
      },
      "source": [
        "X_train, X_val, y_train, y_val = train_test_split(X, y, test_size=0.20, random_state=42, stratify=y)"
      ],
      "execution_count": null,
      "outputs": []
    },
    {
      "cell_type": "code",
      "metadata": {
        "id": "eH1aRkP8S0YR"
      },
      "source": [
        "ros = RandomOverSampler(random_state=42)\n",
        "rus = RandomUnderSampler(random_state=42)\n",
        "smt = SMOTE(random_state=42, n_jobs=-1)\n",
        "\n",
        "X_under, y_under = rus.fit_sample(X_train,y_train)\n",
        "X_over, y_over = ros.fit_sample(X_train,y_train)\n",
        "X_smote, y_smote = smt.fit_sample(X_train,y_train)"
      ],
      "execution_count": null,
      "outputs": []
    },
    {
      "cell_type": "code",
      "metadata": {
        "id": "qghDnfD8SY8v"
      },
      "source": [
        "X_over = pd.DataFrame(X_over)\n",
        "X_over.columns = X.columns.tolist()"
      ],
      "execution_count": null,
      "outputs": []
    },
    {
      "cell_type": "code",
      "metadata": {
        "colab": {
          "base_uri": "https://localhost:8080/"
        },
        "id": "-gNfeVqbB3Ib",
        "outputId": "1f0bba5e-6f77-450e-84ad-66b695eb1320"
      },
      "source": [
        "#XGB\n",
        "clf_xgb = XGBClassifier(objective='binary:logistic', n_jobs=-1, seed=1240, eta=0.1, max_depth=4, min_child_weight=25, subsample=0.7, colsample_bytree=0.7, best_ntree_limit=64)\n",
        "#LGBM\n",
        "clf_lgb = LGBMClassifier(n_jobs=-1, objective='binary', num_leaves=63, learning_rate=0.035, feature_fraction=0.9, bagging_fraction=0.9, min_data_in_leaf=10)\n",
        "#CatBoost\n",
        "clf_cat = CatBoostClassifier()\n",
        "\n",
        "clf_soft = VotingClassifier(estimators=[('xgb', clf_xgb), ('lgb', clf_lgb)], voting='soft')\n",
        "clf_soft = clf_soft.fit(X_over,y_over)\n",
        "y_pred_soft = np.rint(clf_soft.predict_proba(X_val)[:, 1])\n",
        "# y_pred_soft \n",
        "f1_score(y_val, y_pred_soft, average=None)"
      ],
      "execution_count": null,
      "outputs": [
        {
          "output_type": "execute_result",
          "data": {
            "text/plain": [
              "array([0.81339367, 0.38447761])"
            ]
          },
          "metadata": {},
          "execution_count": 312
        }
      ]
    },
    {
      "cell_type": "code",
      "metadata": {
        "colab": {
          "base_uri": "https://localhost:8080/"
        },
        "id": "3PbvWnSeTMEp",
        "outputId": "68c2e13a-f77f-4399-c8c6-fd4bcf008368"
      },
      "source": [
        "#XGB\n",
        "clf_xgb = XGBClassifier()\n",
        "#LGBM\n",
        "clf_lgb = LGBMClassifier()\n",
        "#CatBoost\n",
        "clf_cat = CatBoostClassifier()\n",
        "\n",
        "clf_soft = VotingClassifier(estimators=[('xgb', clf_xgb), ('lgb', clf_lgb)], voting='soft')\n",
        "clf_soft = clf_soft.fit(X_over,y_over)\n",
        "y_pred_soft = np.rint(clf_soft.predict_proba(X_val)[:, 1])\n",
        "# y_pred_soft \n",
        "f1_score(y_val, y_pred_soft, average=None)"
      ],
      "execution_count": null,
      "outputs": [
        {
          "output_type": "execute_result",
          "data": {
            "text/plain": [
              "array([0.81291962, 0.38957963])"
            ]
          },
          "metadata": {},
          "execution_count": 314
        }
      ]
    },
    {
      "cell_type": "code",
      "metadata": {
        "colab": {
          "base_uri": "https://localhost:8080/"
        },
        "id": "hxUQ5m-jTvHg",
        "outputId": "140bc438-c1a3-4903-cfb0-6533a6f6d4c2"
      },
      "source": [
        "clf = LGBMClassifier()\n",
        "clf.fit(X_over, y_over)\n",
        "y_pred = np.rint(clf.predict_proba(X_val)[:, 1])\n",
        "f1_score(y_val, y_pred, average=None)"
      ],
      "execution_count": null,
      "outputs": [
        {
          "output_type": "execute_result",
          "data": {
            "text/plain": [
              "array([0.82874294, 0.36848958])"
            ]
          },
          "metadata": {},
          "execution_count": 322
        }
      ]
    },
    {
      "cell_type": "code",
      "metadata": {
        "id": "YfhucIO4Te35"
      },
      "source": [
        "importance= pd.DataFrame()\n",
        "importance[\"Features\"] = X.columns\n",
        "importance[\"Score\"] = clf.feature_importances_\n",
        "\n",
        "fs_after = importance[importance['Score']>0]['Features'].tolist()\n",
        "fs_remove = importance[importance['Score']==0]['Features'].tolist()"
      ],
      "execution_count": null,
      "outputs": []
    },
    {
      "cell_type": "code",
      "metadata": {
        "id": "D7Xyii23UnGy"
      },
      "source": [
        "train = train.drop(columns=fs_remove, axis=1)\n",
        "test = test.drop(columns=fs_remove, axis=1)"
      ],
      "execution_count": null,
      "outputs": []
    },
    {
      "cell_type": "code",
      "metadata": {
        "id": "QDfZ25VgU8TL"
      },
      "source": [
        "train.to_csv('train_FE11.csv', index=False)\n",
        "!cp train_FE11.csv \"/content/drive/MyDrive/2021-travelers-modeling-competition/\"\n",
        "test.to_csv('test_FE11.csv', index=False)\n",
        "!cp test_FE11.csv \"/content/drive/MyDrive/2021-travelers-modeling-competition/\""
      ],
      "execution_count": null,
      "outputs": []
    },
    {
      "cell_type": "code",
      "metadata": {
        "colab": {
          "base_uri": "https://localhost:8080/",
          "height": 1000
        },
        "id": "NvAc10brUWpK",
        "outputId": "c1756302-5f9b-4249-ce0f-93660d4f4ac0"
      },
      "source": [
        "importance.sort_values(by = \"Score\", ascending=False).head(60)"
      ],
      "execution_count": null,
      "outputs": [
        {
          "output_type": "execute_result",
          "data": {
            "text/html": [
              "<div>\n",
              "<style scoped>\n",
              "    .dataframe tbody tr th:only-of-type {\n",
              "        vertical-align: middle;\n",
              "    }\n",
              "\n",
              "    .dataframe tbody tr th {\n",
              "        vertical-align: top;\n",
              "    }\n",
              "\n",
              "    .dataframe thead th {\n",
              "        text-align: right;\n",
              "    }\n",
              "</style>\n",
              "<table border=\"1\" class=\"dataframe\">\n",
              "  <thead>\n",
              "    <tr style=\"text-align: right;\">\n",
              "      <th></th>\n",
              "      <th>Features</th>\n",
              "      <th>Score</th>\n",
              "    </tr>\n",
              "  </thead>\n",
              "  <tbody>\n",
              "    <tr>\n",
              "      <th>15</th>\n",
              "      <td>claim_est_payout</td>\n",
              "      <td>220</td>\n",
              "    </tr>\n",
              "    <tr>\n",
              "      <th>0</th>\n",
              "      <td>claim_number</td>\n",
              "      <td>199</td>\n",
              "    </tr>\n",
              "    <tr>\n",
              "      <th>17</th>\n",
              "      <td>vehicle_price</td>\n",
              "      <td>196</td>\n",
              "    </tr>\n",
              "    <tr>\n",
              "      <th>4</th>\n",
              "      <td>safty_rating</td>\n",
              "      <td>186</td>\n",
              "    </tr>\n",
              "    <tr>\n",
              "      <th>5</th>\n",
              "      <td>annual_income</td>\n",
              "      <td>178</td>\n",
              "    </tr>\n",
              "    <tr>\n",
              "      <th>18</th>\n",
              "      <td>vehicle_weight</td>\n",
              "      <td>178</td>\n",
              "    </tr>\n",
              "    <tr>\n",
              "      <th>10</th>\n",
              "      <td>claim_date</td>\n",
              "      <td>167</td>\n",
              "    </tr>\n",
              "    <tr>\n",
              "      <th>13</th>\n",
              "      <td>liab_prct</td>\n",
              "      <td>159</td>\n",
              "    </tr>\n",
              "    <tr>\n",
              "      <th>9</th>\n",
              "      <td>zip_code</td>\n",
              "      <td>147</td>\n",
              "    </tr>\n",
              "    <tr>\n",
              "      <th>59</th>\n",
              "      <td>claim_date_FE</td>\n",
              "      <td>124</td>\n",
              "    </tr>\n",
              "    <tr>\n",
              "      <th>58</th>\n",
              "      <td>zip_code_FE</td>\n",
              "      <td>124</td>\n",
              "    </tr>\n",
              "    <tr>\n",
              "      <th>16</th>\n",
              "      <td>age_of_vehicle</td>\n",
              "      <td>107</td>\n",
              "    </tr>\n",
              "    <tr>\n",
              "      <th>11</th>\n",
              "      <td>past_num_of_claims</td>\n",
              "      <td>92</td>\n",
              "    </tr>\n",
              "    <tr>\n",
              "      <th>44</th>\n",
              "      <td>city</td>\n",
              "      <td>90</td>\n",
              "    </tr>\n",
              "    <tr>\n",
              "      <th>1</th>\n",
              "      <td>age_of_driver</td>\n",
              "      <td>78</td>\n",
              "    </tr>\n",
              "    <tr>\n",
              "      <th>45</th>\n",
              "      <td>county</td>\n",
              "      <td>68</td>\n",
              "    </tr>\n",
              "    <tr>\n",
              "      <th>60</th>\n",
              "      <td>city_FE</td>\n",
              "      <td>67</td>\n",
              "    </tr>\n",
              "    <tr>\n",
              "      <th>29</th>\n",
              "      <td>accident_site_Parking Lot</td>\n",
              "      <td>59</td>\n",
              "    </tr>\n",
              "    <tr>\n",
              "      <th>61</th>\n",
              "      <td>county_FE</td>\n",
              "      <td>57</td>\n",
              "    </tr>\n",
              "    <tr>\n",
              "      <th>12</th>\n",
              "      <td>witness_present_ind</td>\n",
              "      <td>53</td>\n",
              "    </tr>\n",
              "    <tr>\n",
              "      <th>7</th>\n",
              "      <td>address_change_ind</td>\n",
              "      <td>51</td>\n",
              "    </tr>\n",
              "    <tr>\n",
              "      <th>6</th>\n",
              "      <td>high_education_ind</td>\n",
              "      <td>46</td>\n",
              "    </tr>\n",
              "    <tr>\n",
              "      <th>2</th>\n",
              "      <td>gender</td>\n",
              "      <td>43</td>\n",
              "    </tr>\n",
              "    <tr>\n",
              "      <th>3</th>\n",
              "      <td>marital_status</td>\n",
              "      <td>40</td>\n",
              "    </tr>\n",
              "    <tr>\n",
              "      <th>27</th>\n",
              "      <td>accident_site_Local</td>\n",
              "      <td>26</td>\n",
              "    </tr>\n",
              "    <tr>\n",
              "      <th>8</th>\n",
              "      <td>living_status</td>\n",
              "      <td>20</td>\n",
              "    </tr>\n",
              "    <tr>\n",
              "      <th>33</th>\n",
              "      <td>vehicle_category_Compact</td>\n",
              "      <td>18</td>\n",
              "    </tr>\n",
              "    <tr>\n",
              "      <th>30</th>\n",
              "      <td>channel_Broker</td>\n",
              "      <td>17</td>\n",
              "    </tr>\n",
              "    <tr>\n",
              "      <th>34</th>\n",
              "      <td>vehicle_category_Large</td>\n",
              "      <td>12</td>\n",
              "    </tr>\n",
              "    <tr>\n",
              "      <th>39</th>\n",
              "      <td>vehicle_color_black</td>\n",
              "      <td>12</td>\n",
              "    </tr>\n",
              "    <tr>\n",
              "      <th>14</th>\n",
              "      <td>policy_report_filed_ind</td>\n",
              "      <td>12</td>\n",
              "    </tr>\n",
              "    <tr>\n",
              "      <th>31</th>\n",
              "      <td>channel_Online</td>\n",
              "      <td>11</td>\n",
              "    </tr>\n",
              "    <tr>\n",
              "      <th>24</th>\n",
              "      <td>claim_day_of_week_Saturday</td>\n",
              "      <td>11</td>\n",
              "    </tr>\n",
              "    <tr>\n",
              "      <th>42</th>\n",
              "      <td>vehicle_color_silver</td>\n",
              "      <td>9</td>\n",
              "    </tr>\n",
              "    <tr>\n",
              "      <th>37</th>\n",
              "      <td>vehicle_color_other</td>\n",
              "      <td>9</td>\n",
              "    </tr>\n",
              "    <tr>\n",
              "      <th>38</th>\n",
              "      <td>vehicle_color_gray</td>\n",
              "      <td>9</td>\n",
              "    </tr>\n",
              "    <tr>\n",
              "      <th>40</th>\n",
              "      <td>vehicle_color_red</td>\n",
              "      <td>9</td>\n",
              "    </tr>\n",
              "    <tr>\n",
              "      <th>55</th>\n",
              "      <td>Holiday_Martin Luther King Jr. Day</td>\n",
              "      <td>8</td>\n",
              "    </tr>\n",
              "    <tr>\n",
              "      <th>43</th>\n",
              "      <td>state</td>\n",
              "      <td>8</td>\n",
              "    </tr>\n",
              "    <tr>\n",
              "      <th>35</th>\n",
              "      <td>vehicle_category_Medium</td>\n",
              "      <td>8</td>\n",
              "    </tr>\n",
              "    <tr>\n",
              "      <th>25</th>\n",
              "      <td>claim_day_of_week_Monday</td>\n",
              "      <td>7</td>\n",
              "    </tr>\n",
              "    <tr>\n",
              "      <th>46</th>\n",
              "      <td>Holiday_Workday</td>\n",
              "      <td>7</td>\n",
              "    </tr>\n",
              "    <tr>\n",
              "      <th>21</th>\n",
              "      <td>claim_day_of_week_Thursday</td>\n",
              "      <td>7</td>\n",
              "    </tr>\n",
              "    <tr>\n",
              "      <th>23</th>\n",
              "      <td>claim_day_of_week_Wednesday</td>\n",
              "      <td>7</td>\n",
              "    </tr>\n",
              "    <tr>\n",
              "      <th>32</th>\n",
              "      <td>channel_Phone</td>\n",
              "      <td>6</td>\n",
              "    </tr>\n",
              "    <tr>\n",
              "      <th>20</th>\n",
              "      <td>claim_day_of_week_Friday</td>\n",
              "      <td>6</td>\n",
              "    </tr>\n",
              "    <tr>\n",
              "      <th>57</th>\n",
              "      <td>state_FE</td>\n",
              "      <td>6</td>\n",
              "    </tr>\n",
              "    <tr>\n",
              "      <th>36</th>\n",
              "      <td>vehicle_color_white</td>\n",
              "      <td>5</td>\n",
              "    </tr>\n",
              "    <tr>\n",
              "      <th>41</th>\n",
              "      <td>vehicle_color_blue</td>\n",
              "      <td>5</td>\n",
              "    </tr>\n",
              "    <tr>\n",
              "      <th>28</th>\n",
              "      <td>accident_site_Highway</td>\n",
              "      <td>4</td>\n",
              "    </tr>\n",
              "    <tr>\n",
              "      <th>26</th>\n",
              "      <td>claim_day_of_week_Sunday</td>\n",
              "      <td>4</td>\n",
              "    </tr>\n",
              "    <tr>\n",
              "      <th>22</th>\n",
              "      <td>claim_day_of_week_Tuesday</td>\n",
              "      <td>4</td>\n",
              "    </tr>\n",
              "    <tr>\n",
              "      <th>19</th>\n",
              "      <td>mis_count</td>\n",
              "      <td>2</td>\n",
              "    </tr>\n",
              "    <tr>\n",
              "      <th>54</th>\n",
              "      <td>Holiday_July 4th</td>\n",
              "      <td>1</td>\n",
              "    </tr>\n",
              "    <tr>\n",
              "      <th>56</th>\n",
              "      <td>Holiday_Christmas</td>\n",
              "      <td>1</td>\n",
              "    </tr>\n",
              "    <tr>\n",
              "      <th>53</th>\n",
              "      <td>Holiday_Memorial Day</td>\n",
              "      <td>0</td>\n",
              "    </tr>\n",
              "    <tr>\n",
              "      <th>52</th>\n",
              "      <td>Holiday_Labor Day</td>\n",
              "      <td>0</td>\n",
              "    </tr>\n",
              "    <tr>\n",
              "      <th>51</th>\n",
              "      <td>Holiday_Thanksgiving</td>\n",
              "      <td>0</td>\n",
              "    </tr>\n",
              "    <tr>\n",
              "      <th>50</th>\n",
              "      <td>Holiday_Columbus Day</td>\n",
              "      <td>0</td>\n",
              "    </tr>\n",
              "    <tr>\n",
              "      <th>48</th>\n",
              "      <td>Holiday_New Years Day</td>\n",
              "      <td>0</td>\n",
              "    </tr>\n",
              "  </tbody>\n",
              "</table>\n",
              "</div>"
            ],
            "text/plain": [
              "                              Features  Score\n",
              "15                    claim_est_payout    220\n",
              "0                         claim_number    199\n",
              "17                       vehicle_price    196\n",
              "4                         safty_rating    186\n",
              "5                        annual_income    178\n",
              "18                      vehicle_weight    178\n",
              "10                          claim_date    167\n",
              "13                           liab_prct    159\n",
              "9                             zip_code    147\n",
              "59                       claim_date_FE    124\n",
              "58                         zip_code_FE    124\n",
              "16                      age_of_vehicle    107\n",
              "11                  past_num_of_claims     92\n",
              "44                                city     90\n",
              "1                        age_of_driver     78\n",
              "45                              county     68\n",
              "60                             city_FE     67\n",
              "29           accident_site_Parking Lot     59\n",
              "61                           county_FE     57\n",
              "12                 witness_present_ind     53\n",
              "7                   address_change_ind     51\n",
              "6                   high_education_ind     46\n",
              "2                               gender     43\n",
              "3                       marital_status     40\n",
              "27                 accident_site_Local     26\n",
              "8                        living_status     20\n",
              "33            vehicle_category_Compact     18\n",
              "30                      channel_Broker     17\n",
              "34              vehicle_category_Large     12\n",
              "39                 vehicle_color_black     12\n",
              "14             policy_report_filed_ind     12\n",
              "31                      channel_Online     11\n",
              "24          claim_day_of_week_Saturday     11\n",
              "42                vehicle_color_silver      9\n",
              "37                 vehicle_color_other      9\n",
              "38                  vehicle_color_gray      9\n",
              "40                   vehicle_color_red      9\n",
              "55  Holiday_Martin Luther King Jr. Day      8\n",
              "43                               state      8\n",
              "35             vehicle_category_Medium      8\n",
              "25            claim_day_of_week_Monday      7\n",
              "46                     Holiday_Workday      7\n",
              "21          claim_day_of_week_Thursday      7\n",
              "23         claim_day_of_week_Wednesday      7\n",
              "32                       channel_Phone      6\n",
              "20            claim_day_of_week_Friday      6\n",
              "57                            state_FE      6\n",
              "36                 vehicle_color_white      5\n",
              "41                  vehicle_color_blue      5\n",
              "28               accident_site_Highway      4\n",
              "26            claim_day_of_week_Sunday      4\n",
              "22           claim_day_of_week_Tuesday      4\n",
              "19                           mis_count      2\n",
              "54                    Holiday_July 4th      1\n",
              "56                   Holiday_Christmas      1\n",
              "53                Holiday_Memorial Day      0\n",
              "52                   Holiday_Labor Day      0\n",
              "51                Holiday_Thanksgiving      0\n",
              "50                Holiday_Columbus Day      0\n",
              "48               Holiday_New Years Day      0"
            ]
          },
          "metadata": {},
          "execution_count": 324
        }
      ]
    }
  ]
}